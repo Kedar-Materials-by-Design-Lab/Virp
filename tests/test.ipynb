{
 "cells": [
  {
   "cell_type": "code",
   "execution_count": 2,
   "id": "6af6a945-a384-46f9-9a66-bd1d4aae60ff",
   "metadata": {},
   "outputs": [
    {
     "name": "stdout",
     "output_type": "stream",
     "text": [
      "Collecting git+https://github.com/andypaulchen/Virp.git\n",
      "  Cloning https://github.com/andypaulchen/Virp.git to c:\\users\\andyp\\appdata\\local\\temp\\pip-req-build-n25tgftv\n",
      "  Resolved https://github.com/andypaulchen/Virp.git to commit 11392d9ac71d81e4f9a955cbfa18fa8a01d0cd12\n",
      "  Preparing metadata (setup.py): started\n",
      "  Preparing metadata (setup.py): finished with status 'done'\n",
      "Requirement already satisfied: pymatgen in c:\\users\\andyp\\anaconda3\\lib\\site-packages (from virp==0.1) (2024.10.3)\n",
      "Requirement already satisfied: joblib>=1 in c:\\users\\andyp\\anaconda3\\lib\\site-packages (from pymatgen->virp==0.1) (1.4.2)\n",
      "Requirement already satisfied: matplotlib>=3.8 in c:\\users\\andyp\\anaconda3\\lib\\site-packages (from pymatgen->virp==0.1) (3.8.4)\n",
      "Requirement already satisfied: monty>=2024.7.29 in c:\\users\\andyp\\anaconda3\\lib\\site-packages (from pymatgen->virp==0.1) (2024.7.30)\n",
      "Requirement already satisfied: networkx>=2.2 in c:\\users\\andyp\\anaconda3\\lib\\site-packages (from pymatgen->virp==0.1) (3.2.1)\n",
      "Requirement already satisfied: palettable>=3.3.3 in c:\\users\\andyp\\anaconda3\\lib\\site-packages (from pymatgen->virp==0.1) (3.3.3)\n",
      "Requirement already satisfied: pandas>=2 in c:\\users\\andyp\\anaconda3\\lib\\site-packages (from pymatgen->virp==0.1) (2.2.2)\n",
      "Requirement already satisfied: plotly>=4.5.0 in c:\\users\\andyp\\anaconda3\\lib\\site-packages (from pymatgen->virp==0.1) (5.22.0)\n",
      "Requirement already satisfied: pybtex>=0.24.0 in c:\\users\\andyp\\anaconda3\\lib\\site-packages (from pymatgen->virp==0.1) (0.24.0)\n",
      "Requirement already satisfied: requests>=2.32 in c:\\users\\andyp\\anaconda3\\lib\\site-packages (from pymatgen->virp==0.1) (2.32.2)\n",
      "Requirement already satisfied: ruamel.yaml>=0.17.0 in c:\\users\\andyp\\anaconda3\\lib\\site-packages (from pymatgen->virp==0.1) (0.17.21)\n",
      "Requirement already satisfied: scipy>=1.13.0 in c:\\users\\andyp\\anaconda3\\lib\\site-packages (from pymatgen->virp==0.1) (1.14.1)\n",
      "Requirement already satisfied: spglib>=2.5.0 in c:\\users\\andyp\\anaconda3\\lib\\site-packages (from pymatgen->virp==0.1) (2.5.0)\n",
      "Requirement already satisfied: sympy>=1.2 in c:\\users\\andyp\\anaconda3\\lib\\site-packages (from pymatgen->virp==0.1) (1.12)\n",
      "Requirement already satisfied: tabulate>=0.9 in c:\\users\\andyp\\anaconda3\\lib\\site-packages (from pymatgen->virp==0.1) (0.9.0)\n",
      "Requirement already satisfied: tqdm>=4.60 in c:\\users\\andyp\\anaconda3\\lib\\site-packages (from pymatgen->virp==0.1) (4.66.4)\n",
      "Requirement already satisfied: uncertainties>=3.1.4 in c:\\users\\andyp\\anaconda3\\lib\\site-packages (from pymatgen->virp==0.1) (3.2.2)\n",
      "Requirement already satisfied: numpy<3,>=1.25.0 in c:\\users\\andyp\\anaconda3\\lib\\site-packages (from pymatgen->virp==0.1) (1.26.4)\n",
      "Requirement already satisfied: contourpy>=1.0.1 in c:\\users\\andyp\\anaconda3\\lib\\site-packages (from matplotlib>=3.8->pymatgen->virp==0.1) (1.2.0)\n",
      "Requirement already satisfied: cycler>=0.10 in c:\\users\\andyp\\anaconda3\\lib\\site-packages (from matplotlib>=3.8->pymatgen->virp==0.1) (0.11.0)\n",
      "Requirement already satisfied: fonttools>=4.22.0 in c:\\users\\andyp\\anaconda3\\lib\\site-packages (from matplotlib>=3.8->pymatgen->virp==0.1) (4.51.0)\n",
      "Requirement already satisfied: kiwisolver>=1.3.1 in c:\\users\\andyp\\anaconda3\\lib\\site-packages (from matplotlib>=3.8->pymatgen->virp==0.1) (1.4.4)\n",
      "Requirement already satisfied: packaging>=20.0 in c:\\users\\andyp\\anaconda3\\lib\\site-packages (from matplotlib>=3.8->pymatgen->virp==0.1) (23.2)\n",
      "Requirement already satisfied: pillow>=8 in c:\\users\\andyp\\anaconda3\\lib\\site-packages (from matplotlib>=3.8->pymatgen->virp==0.1) (10.3.0)\n",
      "Requirement already satisfied: pyparsing>=2.3.1 in c:\\users\\andyp\\anaconda3\\lib\\site-packages (from matplotlib>=3.8->pymatgen->virp==0.1) (3.0.9)\n",
      "Requirement already satisfied: python-dateutil>=2.7 in c:\\users\\andyp\\anaconda3\\lib\\site-packages (from matplotlib>=3.8->pymatgen->virp==0.1) (2.9.0.post0)\n",
      "Requirement already satisfied: pytz>=2020.1 in c:\\users\\andyp\\anaconda3\\lib\\site-packages (from pandas>=2->pymatgen->virp==0.1) (2024.1)\n",
      "Requirement already satisfied: tzdata>=2022.7 in c:\\users\\andyp\\anaconda3\\lib\\site-packages (from pandas>=2->pymatgen->virp==0.1) (2023.3)\n",
      "Requirement already satisfied: tenacity>=6.2.0 in c:\\users\\andyp\\anaconda3\\lib\\site-packages (from plotly>=4.5.0->pymatgen->virp==0.1) (8.2.2)\n",
      "Requirement already satisfied: PyYAML>=3.01 in c:\\users\\andyp\\anaconda3\\lib\\site-packages (from pybtex>=0.24.0->pymatgen->virp==0.1) (6.0.1)\n",
      "Requirement already satisfied: latexcodec>=1.0.4 in c:\\users\\andyp\\anaconda3\\lib\\site-packages (from pybtex>=0.24.0->pymatgen->virp==0.1) (3.0.0)\n",
      "Requirement already satisfied: six in c:\\users\\andyp\\anaconda3\\lib\\site-packages (from pybtex>=0.24.0->pymatgen->virp==0.1) (1.16.0)\n",
      "Requirement already satisfied: charset-normalizer<4,>=2 in c:\\users\\andyp\\anaconda3\\lib\\site-packages (from requests>=2.32->pymatgen->virp==0.1) (2.0.4)\n",
      "Requirement already satisfied: idna<4,>=2.5 in c:\\users\\andyp\\anaconda3\\lib\\site-packages (from requests>=2.32->pymatgen->virp==0.1) (3.7)\n",
      "Requirement already satisfied: urllib3<3,>=1.21.1 in c:\\users\\andyp\\anaconda3\\lib\\site-packages (from requests>=2.32->pymatgen->virp==0.1) (2.2.2)\n",
      "Requirement already satisfied: certifi>=2017.4.17 in c:\\users\\andyp\\anaconda3\\lib\\site-packages (from requests>=2.32->pymatgen->virp==0.1) (2024.8.30)\n",
      "Requirement already satisfied: mpmath>=0.19 in c:\\users\\andyp\\anaconda3\\lib\\site-packages (from sympy>=1.2->pymatgen->virp==0.1) (1.3.0)\n",
      "Requirement already satisfied: colorama in c:\\users\\andyp\\anaconda3\\lib\\site-packages (from tqdm>=4.60->pymatgen->virp==0.1) (0.4.6)\n",
      "Building wheels for collected packages: virp\n",
      "  Building wheel for virp (setup.py): started\n",
      "  Building wheel for virp (setup.py): finished with status 'done'\n",
      "  Created wheel for virp: filename=virp-0.1-py3-none-any.whl size=4688 sha256=d5be91a87d6da8deffdd7a9c7aff46d14b0164be7364642e13862b5ca9abc30b\n",
      "  Stored in directory: C:\\Users\\andyp\\AppData\\Local\\Temp\\pip-ephem-wheel-cache-7b9ca0ea\\wheels\\82\\0a\\dc\\d802faaf6ea229ca5e2421ba9f08b29a085269363286d167fe\n",
      "Successfully built virp\n",
      "Installing collected packages: virp\n",
      "Successfully installed virp-0.1\n",
      "Note: you may need to restart the kernel to use updated packages.\n"
     ]
    },
    {
     "name": "stderr",
     "output_type": "stream",
     "text": [
      "  Running command git clone --filter=blob:none --quiet https://github.com/andypaulchen/Virp.git 'C:\\Users\\andyp\\AppData\\Local\\Temp\\pip-req-build-n25tgftv'\n"
     ]
    }
   ],
   "source": [
    "pip install git+https://github.com/andypaulchen/Virp.git"
   ]
  },
  {
   "cell_type": "code",
   "execution_count": 15,
   "id": "34c475e8-653d-4cca-8d9e-821263753c80",
   "metadata": {},
   "outputs": [
    {
     "ename": "ImportError",
     "evalue": "cannot import name 'CIFSupercell' from 'virp' (C:\\Users\\andyp\\anaconda3\\Lib\\site-packages\\virp\\__init__.py)",
     "output_type": "error",
     "traceback": [
      "\u001b[1;31m---------------------------------------------------------------------------\u001b[0m",
      "\u001b[1;31mImportError\u001b[0m                               Traceback (most recent call last)",
      "Cell \u001b[1;32mIn[15], line 1\u001b[0m\n\u001b[1;32m----> 1\u001b[0m \u001b[38;5;28;01mfrom\u001b[39;00m \u001b[38;5;21;01mvirp\u001b[39;00m \u001b[38;5;28;01mimport\u001b[39;00m CIFSupercell\n",
      "\u001b[1;31mImportError\u001b[0m: cannot import name 'CIFSupercell' from 'virp' (C:\\Users\\andyp\\anaconda3\\Lib\\site-packages\\virp\\__init__.py)"
     ]
    }
   ],
   "source": [
    "from virp import CIFSupercell"
   ]
  },
  {
   "cell_type": "code",
   "execution_count": 13,
   "id": "4d3fa04b-0425-4110-b066-890f50426a36",
   "metadata": {},
   "outputs": [
    {
     "ename": "NameError",
     "evalue": "name 'CIFSupercell' is not defined",
     "output_type": "error",
     "traceback": [
      "\u001b[1;31m---------------------------------------------------------------------------\u001b[0m",
      "\u001b[1;31mNameError\u001b[0m                                 Traceback (most recent call last)",
      "File \u001b[1;32m<timed exec>:14\u001b[0m\n",
      "\u001b[1;31mNameError\u001b[0m: name 'CIFSupercell' is not defined"
     ]
    }
   ],
   "source": [
    "%%time\n",
    "import warnings\n",
    "\n",
    "# Suppress warnings in this block\n",
    "with warnings.catch_warnings():\n",
    "    warnings.simplefilter(\"ignore\")\n",
    "    # Define the input and output file paths\n",
    "    #header = \"_operations\\\\Ca2Al2SiO7\"\n",
    "    header = \"_operations\\\\Spinel_113\"\n",
    "    source_file = header+\".cif\"\n",
    "    sc_file = header+\"_supercell.cif\"\n",
    "    output_file = header+\"_supercell_virtual.cif\"\n",
    "    \n",
    "    # Make the supercell\n",
    "    CIFSupercell (source_file, sc_file, [2,2,2])\n",
    "    \n",
    "    # Execution\n",
    "    PermutativeFill(sc_file, output_file)"
   ]
  },
  {
   "cell_type": "code",
   "execution_count": null,
   "id": "0b8f9077-cc21-48f7-b65e-91582f8a1279",
   "metadata": {},
   "outputs": [],
   "source": []
  }
 ],
 "metadata": {
  "kernelspec": {
   "display_name": "Python 3 (ipykernel)",
   "language": "python",
   "name": "python3"
  },
  "language_info": {
   "codemirror_mode": {
    "name": "ipython",
    "version": 3
   },
   "file_extension": ".py",
   "mimetype": "text/x-python",
   "name": "python",
   "nbconvert_exporter": "python",
   "pygments_lexer": "ipython3",
   "version": "3.12.4"
  }
 },
 "nbformat": 4,
 "nbformat_minor": 5
}
