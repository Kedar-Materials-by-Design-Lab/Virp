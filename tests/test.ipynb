{
 "cells": [
  {
   "cell_type": "code",
   "execution_count": 1,
   "id": "6af6a945-a384-46f9-9a66-bd1d4aae60ff",
   "metadata": {},
   "outputs": [
    {
     "name": "stdout",
     "output_type": "stream",
     "text": [
      "Collecting git+https://github.com/andypaulchen/Virp.git\n",
      "  Cloning https://github.com/andypaulchen/Virp.git to c:\\users\\andyp\\appdata\\local\\temp\\pip-req-build-gnq__bza\n",
      "  Resolved https://github.com/andypaulchen/Virp.git to commit d29676de0436085eef2fcbbac629a64702f50b64\n",
      "  Preparing metadata (setup.py): started\n",
      "  Preparing metadata (setup.py): finished with status 'done'\n",
      "Requirement already satisfied: pymatgen in c:\\users\\andyp\\anaconda3\\envs\\vaspnest\\lib\\site-packages (from Virp==0.1.1) (2024.4.13)\n",
      "Requirement already satisfied: matplotlib>=1.5 in c:\\users\\andyp\\anaconda3\\envs\\vaspnest\\lib\\site-packages (from pymatgen->Virp==0.1.1) (3.8.3)\n",
      "Requirement already satisfied: monty>=2024.2.2 in c:\\users\\andyp\\anaconda3\\envs\\vaspnest\\lib\\site-packages (from pymatgen->Virp==0.1.1) (2024.2.26)\n",
      "Requirement already satisfied: networkx>=2.2 in c:\\users\\andyp\\anaconda3\\envs\\vaspnest\\lib\\site-packages (from pymatgen->Virp==0.1.1) (3.2.1)\n",
      "Requirement already satisfied: numpy>=1.25.0 in c:\\users\\andyp\\anaconda3\\envs\\vaspnest\\lib\\site-packages (from pymatgen->Virp==0.1.1) (1.26.4)\n",
      "Requirement already satisfied: palettable>=3.1.1 in c:\\users\\andyp\\anaconda3\\envs\\vaspnest\\lib\\site-packages (from pymatgen->Virp==0.1.1) (3.3.3)\n",
      "Requirement already satisfied: pandas in c:\\users\\andyp\\anaconda3\\envs\\vaspnest\\lib\\site-packages (from pymatgen->Virp==0.1.1) (2.2.1)\n",
      "Requirement already satisfied: plotly>=4.5.0 in c:\\users\\andyp\\anaconda3\\envs\\vaspnest\\lib\\site-packages (from pymatgen->Virp==0.1.1) (5.19.0)\n",
      "Requirement already satisfied: pybtex in c:\\users\\andyp\\anaconda3\\envs\\vaspnest\\lib\\site-packages (from pymatgen->Virp==0.1.1) (0.24.0)\n",
      "Requirement already satisfied: requests in c:\\users\\andyp\\anaconda3\\envs\\vaspnest\\lib\\site-packages (from pymatgen->Virp==0.1.1) (2.31.0)\n",
      "Requirement already satisfied: ruamel.yaml>=0.17.0 in c:\\users\\andyp\\anaconda3\\envs\\vaspnest\\lib\\site-packages (from pymatgen->Virp==0.1.1) (0.17.40)\n",
      "Requirement already satisfied: scipy>=1.5.0 in c:\\users\\andyp\\anaconda3\\envs\\vaspnest\\lib\\site-packages (from pymatgen->Virp==0.1.1) (1.12.0)\n",
      "Requirement already satisfied: spglib>=2.0.2 in c:\\users\\andyp\\anaconda3\\envs\\vaspnest\\lib\\site-packages (from pymatgen->Virp==0.1.1) (2.3.1)\n",
      "Requirement already satisfied: sympy in c:\\users\\andyp\\anaconda3\\envs\\vaspnest\\lib\\site-packages (from pymatgen->Virp==0.1.1) (1.12)\n",
      "Requirement already satisfied: tabulate in c:\\users\\andyp\\anaconda3\\envs\\vaspnest\\lib\\site-packages (from pymatgen->Virp==0.1.1) (0.9.0)\n",
      "Requirement already satisfied: tqdm in c:\\users\\andyp\\anaconda3\\envs\\vaspnest\\lib\\site-packages (from pymatgen->Virp==0.1.1) (4.66.2)\n",
      "Requirement already satisfied: uncertainties>=3.1.4 in c:\\users\\andyp\\anaconda3\\envs\\vaspnest\\lib\\site-packages (from pymatgen->Virp==0.1.1) (3.1.7)\n",
      "Requirement already satisfied: joblib in c:\\users\\andyp\\anaconda3\\envs\\vaspnest\\lib\\site-packages (from pymatgen->Virp==0.1.1) (1.3.2)\n",
      "Requirement already satisfied: contourpy>=1.0.1 in c:\\users\\andyp\\anaconda3\\envs\\vaspnest\\lib\\site-packages (from matplotlib>=1.5->pymatgen->Virp==0.1.1) (1.2.0)\n",
      "Requirement already satisfied: cycler>=0.10 in c:\\users\\andyp\\anaconda3\\envs\\vaspnest\\lib\\site-packages (from matplotlib>=1.5->pymatgen->Virp==0.1.1) (0.12.1)\n",
      "Requirement already satisfied: fonttools>=4.22.0 in c:\\users\\andyp\\anaconda3\\envs\\vaspnest\\lib\\site-packages (from matplotlib>=1.5->pymatgen->Virp==0.1.1) (4.49.0)\n",
      "Requirement already satisfied: kiwisolver>=1.3.1 in c:\\users\\andyp\\anaconda3\\envs\\vaspnest\\lib\\site-packages (from matplotlib>=1.5->pymatgen->Virp==0.1.1) (1.4.5)\n",
      "Requirement already satisfied: packaging>=20.0 in c:\\users\\andyp\\anaconda3\\envs\\vaspnest\\lib\\site-packages (from matplotlib>=1.5->pymatgen->Virp==0.1.1) (23.2)\n",
      "Requirement already satisfied: pillow>=8 in c:\\users\\andyp\\anaconda3\\envs\\vaspnest\\lib\\site-packages (from matplotlib>=1.5->pymatgen->Virp==0.1.1) (10.2.0)\n",
      "Requirement already satisfied: pyparsing>=2.3.1 in c:\\users\\andyp\\anaconda3\\envs\\vaspnest\\lib\\site-packages (from matplotlib>=1.5->pymatgen->Virp==0.1.1) (3.1.1)\n",
      "Requirement already satisfied: python-dateutil>=2.7 in c:\\users\\andyp\\anaconda3\\envs\\vaspnest\\lib\\site-packages (from matplotlib>=1.5->pymatgen->Virp==0.1.1) (2.8.2)\n",
      "Requirement already satisfied: tenacity>=6.2.0 in c:\\users\\andyp\\anaconda3\\envs\\vaspnest\\lib\\site-packages (from plotly>=4.5.0->pymatgen->Virp==0.1.1) (8.2.3)\n",
      "Requirement already satisfied: ruamel.yaml.clib>=0.2.7 in c:\\users\\andyp\\anaconda3\\envs\\vaspnest\\lib\\site-packages (from ruamel.yaml>=0.17.0->pymatgen->Virp==0.1.1) (0.2.8)\n",
      "Requirement already satisfied: future in c:\\users\\andyp\\anaconda3\\envs\\vaspnest\\lib\\site-packages (from uncertainties>=3.1.4->pymatgen->Virp==0.1.1) (1.0.0)\n",
      "Requirement already satisfied: pytz>=2020.1 in c:\\users\\andyp\\anaconda3\\envs\\vaspnest\\lib\\site-packages (from pandas->pymatgen->Virp==0.1.1) (2024.1)\n",
      "Requirement already satisfied: tzdata>=2022.7 in c:\\users\\andyp\\anaconda3\\envs\\vaspnest\\lib\\site-packages (from pandas->pymatgen->Virp==0.1.1) (2024.1)\n",
      "Requirement already satisfied: PyYAML>=3.01 in c:\\users\\andyp\\anaconda3\\envs\\vaspnest\\lib\\site-packages (from pybtex->pymatgen->Virp==0.1.1) (6.0.1)\n",
      "Requirement already satisfied: latexcodec>=1.0.4 in c:\\users\\andyp\\anaconda3\\envs\\vaspnest\\lib\\site-packages (from pybtex->pymatgen->Virp==0.1.1) (2.0.1)\n",
      "Requirement already satisfied: six in c:\\users\\andyp\\anaconda3\\envs\\vaspnest\\lib\\site-packages (from pybtex->pymatgen->Virp==0.1.1) (1.16.0)\n",
      "Requirement already satisfied: charset-normalizer<4,>=2 in c:\\users\\andyp\\anaconda3\\envs\\vaspnest\\lib\\site-packages (from requests->pymatgen->Virp==0.1.1) (3.3.2)\n",
      "Requirement already satisfied: idna<4,>=2.5 in c:\\users\\andyp\\anaconda3\\envs\\vaspnest\\lib\\site-packages (from requests->pymatgen->Virp==0.1.1) (3.6)\n",
      "Requirement already satisfied: urllib3<3,>=1.21.1 in c:\\users\\andyp\\anaconda3\\envs\\vaspnest\\lib\\site-packages (from requests->pymatgen->Virp==0.1.1) (2.0.7)\n",
      "Requirement already satisfied: certifi>=2017.4.17 in c:\\users\\andyp\\anaconda3\\envs\\vaspnest\\lib\\site-packages (from requests->pymatgen->Virp==0.1.1) (2024.8.30)\n",
      "Requirement already satisfied: mpmath>=0.19 in c:\\users\\andyp\\anaconda3\\envs\\vaspnest\\lib\\site-packages (from sympy->pymatgen->Virp==0.1.1) (1.3.0)\n",
      "Requirement already satisfied: colorama in c:\\users\\andyp\\anaconda3\\envs\\vaspnest\\lib\\site-packages (from tqdm->pymatgen->Virp==0.1.1) (0.4.6)\n",
      "Building wheels for collected packages: Virp\n",
      "  Building wheel for Virp (setup.py): started\n",
      "  Building wheel for Virp (setup.py): finished with status 'done'\n",
      "  Created wheel for Virp: filename=Virp-0.1.1-py3-none-any.whl size=4725 sha256=cb20cf1941d881d54671e050a34b806a4587901603048ed452a3ee08f98395a6\n",
      "  Stored in directory: C:\\Users\\andyp\\AppData\\Local\\Temp\\pip-ephem-wheel-cache-e052fh5g\\wheels\\9b\\2b\\7b\\18af2141d1799dddeb6fc63ffa96cbb168549d4cb536b98847\n",
      "Successfully built Virp\n",
      "Installing collected packages: Virp\n",
      "  Attempting uninstall: Virp\n",
      "    Found existing installation: virp 0.1\n",
      "    Uninstalling virp-0.1:\n",
      "      Successfully uninstalled virp-0.1\n",
      "Successfully installed Virp-0.1.1\n",
      "Note: you may need to restart the kernel to use updated packages.\n"
     ]
    },
    {
     "name": "stderr",
     "output_type": "stream",
     "text": [
      "  Running command git clone --filter=blob:none --quiet https://github.com/andypaulchen/Virp.git 'C:\\Users\\andyp\\AppData\\Local\\Temp\\pip-req-build-gnq__bza'\n"
     ]
    }
   ],
   "source": [
    "pip install git+https://github.com/andypaulchen/Virp.git"
   ]
  },
  {
   "cell_type": "code",
   "execution_count": 2,
   "id": "34c475e8-653d-4cca-8d9e-821263753c80",
   "metadata": {},
   "outputs": [
    {
     "ename": "ModuleNotFoundError",
     "evalue": "No module named 'virp'",
     "output_type": "error",
     "traceback": [
      "\u001b[1;31m---------------------------------------------------------------------------\u001b[0m",
      "\u001b[1;31mModuleNotFoundError\u001b[0m                       Traceback (most recent call last)",
      "Cell \u001b[1;32mIn[2], line 1\u001b[0m\n\u001b[1;32m----> 1\u001b[0m \u001b[38;5;28;01mfrom\u001b[39;00m \u001b[38;5;21;01mvirp\u001b[39;00m \u001b[38;5;28;01mimport\u001b[39;00m \u001b[38;5;241m*\u001b[39m\n",
      "\u001b[1;31mModuleNotFoundError\u001b[0m: No module named 'virp'"
     ]
    }
   ],
   "source": [
    "from virp import *"
   ]
  },
  {
   "cell_type": "code",
   "execution_count": 3,
   "id": "64e8b98c-709a-4135-a204-b02a52060809",
   "metadata": {},
   "outputs": [],
   "source": [
    "import Virp"
   ]
  },
  {
   "cell_type": "code",
   "execution_count": 4,
   "id": "4d3fa04b-0425-4110-b066-890f50426a36",
   "metadata": {},
   "outputs": [
    {
     "ename": "NameError",
     "evalue": "name 'CIFSupercell' is not defined",
     "output_type": "error",
     "traceback": [
      "\u001b[1;31m---------------------------------------------------------------------------\u001b[0m",
      "\u001b[1;31mNameError\u001b[0m                                 Traceback (most recent call last)",
      "File \u001b[1;32m<timed exec>:13\u001b[0m\n",
      "\u001b[1;31mNameError\u001b[0m: name 'CIFSupercell' is not defined"
     ]
    }
   ],
   "source": [
    "%%time\n",
    "import warnings\n",
    "\n",
    "# Suppress warnings in this block\n",
    "with warnings.catch_warnings():\n",
    "    warnings.simplefilter(\"ignore\")\n",
    "    # Define the input and output file paths\n",
    "    header = \"Ca2Al2SiO7\"\n",
    "    source_file = header+\".cif\"\n",
    "    sc_file = header+\"_supercell.cif\"\n",
    "    output_file = header+\"_supercell_virtual.cif\"\n",
    "    \n",
    "    # Make the supercell\n",
    "    CIFSupercell (source_file, sc_file, [2,2,2])\n",
    "    \n",
    "    # Execution\n",
    "    PermutativeFill(sc_file, output_file)"
   ]
  },
  {
   "cell_type": "code",
   "execution_count": null,
   "id": "d84e8d11-0ff4-4d03-975b-dff76267070d",
   "metadata": {},
   "outputs": [],
   "source": []
  }
 ],
 "metadata": {
  "kernelspec": {
   "display_name": "Python 3 (ipykernel)",
   "language": "python",
   "name": "python3"
  },
  "language_info": {
   "codemirror_mode": {
    "name": "ipython",
    "version": 3
   },
   "file_extension": ".py",
   "mimetype": "text/x-python",
   "name": "python",
   "nbconvert_exporter": "python",
   "pygments_lexer": "ipython3",
   "version": "3.10.13"
  }
 },
 "nbformat": 4,
 "nbformat_minor": 5
}
