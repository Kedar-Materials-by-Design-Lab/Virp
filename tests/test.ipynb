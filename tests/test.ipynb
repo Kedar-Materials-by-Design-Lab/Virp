{
 "cells": [
  {
   "cell_type": "code",
   "execution_count": 2,
   "id": "6af6a945-a384-46f9-9a66-bd1d4aae60ff",
   "metadata": {},
   "outputs": [
    {
     "name": "stdout",
     "output_type": "stream",
     "text": [
      "Collecting git+https://github.com/andypaulchen/virp.git\n",
      "  Cloning https://github.com/andypaulchen/virp.git to c:\\users\\andyp\\appdata\\local\\temp\\pip-req-build-ty_0025e\n",
      "  Resolved https://github.com/andypaulchen/virp.git to commit cb52d738a3347277d26b01b7bd9339d16d876f52\n",
      "  Preparing metadata (setup.py): started\n",
      "  Preparing metadata (setup.py): finished with status 'done'\n",
      "Requirement already satisfied: pymatgen in c:\\users\\andyp\\anaconda3\\envs\\vaspnest\\lib\\site-packages (from virp==0.1.1) (2024.10.29)\n",
      "Requirement already satisfied: joblib>=1 in c:\\users\\andyp\\anaconda3\\envs\\vaspnest\\lib\\site-packages (from pymatgen->virp==0.1.1) (1.3.2)\n",
      "Requirement already satisfied: matplotlib>=3.8 in c:\\users\\andyp\\anaconda3\\envs\\vaspnest\\lib\\site-packages (from pymatgen->virp==0.1.1) (3.8.3)\n",
      "Requirement already satisfied: monty>=2024.7.29 in c:\\users\\andyp\\anaconda3\\envs\\vaspnest\\lib\\site-packages (from pymatgen->virp==0.1.1) (2024.10.21)\n",
      "Requirement already satisfied: networkx>=3 in c:\\users\\andyp\\anaconda3\\envs\\vaspnest\\lib\\site-packages (from pymatgen->virp==0.1.1) (3.2.1)\n",
      "Requirement already satisfied: palettable>=3.3.3 in c:\\users\\andyp\\anaconda3\\envs\\vaspnest\\lib\\site-packages (from pymatgen->virp==0.1.1) (3.3.3)\n",
      "Requirement already satisfied: pandas>=2 in c:\\users\\andyp\\anaconda3\\envs\\vaspnest\\lib\\site-packages (from pymatgen->virp==0.1.1) (2.2.1)\n",
      "Requirement already satisfied: plotly>=4.5.0 in c:\\users\\andyp\\anaconda3\\envs\\vaspnest\\lib\\site-packages (from pymatgen->virp==0.1.1) (5.19.0)\n",
      "Requirement already satisfied: pybtex>=0.24.0 in c:\\users\\andyp\\anaconda3\\envs\\vaspnest\\lib\\site-packages (from pymatgen->virp==0.1.1) (0.24.0)\n",
      "Requirement already satisfied: requests>=2.32 in c:\\users\\andyp\\anaconda3\\envs\\vaspnest\\lib\\site-packages (from pymatgen->virp==0.1.1) (2.32.3)\n",
      "Requirement already satisfied: ruamel.yaml>=0.17.0 in c:\\users\\andyp\\anaconda3\\envs\\vaspnest\\lib\\site-packages (from pymatgen->virp==0.1.1) (0.17.40)\n",
      "Requirement already satisfied: scipy>=1.13.0 in c:\\users\\andyp\\anaconda3\\envs\\vaspnest\\lib\\site-packages (from pymatgen->virp==0.1.1) (1.14.1)\n",
      "Requirement already satisfied: spglib>=2.5.0 in c:\\users\\andyp\\anaconda3\\envs\\vaspnest\\lib\\site-packages (from pymatgen->virp==0.1.1) (2.5.0)\n",
      "Requirement already satisfied: sympy>=1.2 in c:\\users\\andyp\\anaconda3\\envs\\vaspnest\\lib\\site-packages (from pymatgen->virp==0.1.1) (1.12)\n",
      "Requirement already satisfied: tabulate>=0.9 in c:\\users\\andyp\\anaconda3\\envs\\vaspnest\\lib\\site-packages (from pymatgen->virp==0.1.1) (0.9.0)\n",
      "Requirement already satisfied: tqdm>=4.60 in c:\\users\\andyp\\anaconda3\\envs\\vaspnest\\lib\\site-packages (from pymatgen->virp==0.1.1) (4.66.2)\n",
      "Requirement already satisfied: uncertainties>=3.1.4 in c:\\users\\andyp\\anaconda3\\envs\\vaspnest\\lib\\site-packages (from pymatgen->virp==0.1.1) (3.1.7)\n",
      "Requirement already satisfied: numpy<3,>=1.25.0 in c:\\users\\andyp\\anaconda3\\envs\\vaspnest\\lib\\site-packages (from pymatgen->virp==0.1.1) (1.26.4)\n",
      "Requirement already satisfied: contourpy>=1.0.1 in c:\\users\\andyp\\anaconda3\\envs\\vaspnest\\lib\\site-packages (from matplotlib>=3.8->pymatgen->virp==0.1.1) (1.2.0)\n",
      "Requirement already satisfied: cycler>=0.10 in c:\\users\\andyp\\anaconda3\\envs\\vaspnest\\lib\\site-packages (from matplotlib>=3.8->pymatgen->virp==0.1.1) (0.12.1)\n",
      "Requirement already satisfied: fonttools>=4.22.0 in c:\\users\\andyp\\anaconda3\\envs\\vaspnest\\lib\\site-packages (from matplotlib>=3.8->pymatgen->virp==0.1.1) (4.49.0)\n",
      "Requirement already satisfied: kiwisolver>=1.3.1 in c:\\users\\andyp\\anaconda3\\envs\\vaspnest\\lib\\site-packages (from matplotlib>=3.8->pymatgen->virp==0.1.1) (1.4.5)\n",
      "Requirement already satisfied: packaging>=20.0 in c:\\users\\andyp\\anaconda3\\envs\\vaspnest\\lib\\site-packages (from matplotlib>=3.8->pymatgen->virp==0.1.1) (23.2)\n",
      "Requirement already satisfied: pillow>=8 in c:\\users\\andyp\\anaconda3\\envs\\vaspnest\\lib\\site-packages (from matplotlib>=3.8->pymatgen->virp==0.1.1) (10.2.0)\n",
      "Requirement already satisfied: pyparsing>=2.3.1 in c:\\users\\andyp\\anaconda3\\envs\\vaspnest\\lib\\site-packages (from matplotlib>=3.8->pymatgen->virp==0.1.1) (3.1.1)\n",
      "Requirement already satisfied: python-dateutil>=2.7 in c:\\users\\andyp\\anaconda3\\envs\\vaspnest\\lib\\site-packages (from matplotlib>=3.8->pymatgen->virp==0.1.1) (2.8.2)\n",
      "Requirement already satisfied: pytz>=2020.1 in c:\\users\\andyp\\anaconda3\\envs\\vaspnest\\lib\\site-packages (from pandas>=2->pymatgen->virp==0.1.1) (2024.1)\n",
      "Requirement already satisfied: tzdata>=2022.7 in c:\\users\\andyp\\anaconda3\\envs\\vaspnest\\lib\\site-packages (from pandas>=2->pymatgen->virp==0.1.1) (2024.1)\n",
      "Requirement already satisfied: tenacity>=6.2.0 in c:\\users\\andyp\\anaconda3\\envs\\vaspnest\\lib\\site-packages (from plotly>=4.5.0->pymatgen->virp==0.1.1) (8.2.3)\n",
      "Requirement already satisfied: PyYAML>=3.01 in c:\\users\\andyp\\anaconda3\\envs\\vaspnest\\lib\\site-packages (from pybtex>=0.24.0->pymatgen->virp==0.1.1) (6.0.1)\n",
      "Requirement already satisfied: latexcodec>=1.0.4 in c:\\users\\andyp\\anaconda3\\envs\\vaspnest\\lib\\site-packages (from pybtex>=0.24.0->pymatgen->virp==0.1.1) (2.0.1)\n",
      "Requirement already satisfied: six in c:\\users\\andyp\\anaconda3\\envs\\vaspnest\\lib\\site-packages (from pybtex>=0.24.0->pymatgen->virp==0.1.1) (1.16.0)\n",
      "Requirement already satisfied: charset-normalizer<4,>=2 in c:\\users\\andyp\\anaconda3\\envs\\vaspnest\\lib\\site-packages (from requests>=2.32->pymatgen->virp==0.1.1) (3.3.2)\n",
      "Requirement already satisfied: idna<4,>=2.5 in c:\\users\\andyp\\anaconda3\\envs\\vaspnest\\lib\\site-packages (from requests>=2.32->pymatgen->virp==0.1.1) (3.6)\n",
      "Requirement already satisfied: urllib3<3,>=1.21.1 in c:\\users\\andyp\\anaconda3\\envs\\vaspnest\\lib\\site-packages (from requests>=2.32->pymatgen->virp==0.1.1) (2.0.7)\n",
      "Requirement already satisfied: certifi>=2017.4.17 in c:\\users\\andyp\\anaconda3\\envs\\vaspnest\\lib\\site-packages (from requests>=2.32->pymatgen->virp==0.1.1) (2024.8.30)\n",
      "Requirement already satisfied: ruamel.yaml.clib>=0.2.7 in c:\\users\\andyp\\anaconda3\\envs\\vaspnest\\lib\\site-packages (from ruamel.yaml>=0.17.0->pymatgen->virp==0.1.1) (0.2.8)\n",
      "Requirement already satisfied: mpmath>=0.19 in c:\\users\\andyp\\anaconda3\\envs\\vaspnest\\lib\\site-packages (from sympy>=1.2->pymatgen->virp==0.1.1) (1.3.0)\n",
      "Requirement already satisfied: colorama in c:\\users\\andyp\\anaconda3\\envs\\vaspnest\\lib\\site-packages (from tqdm>=4.60->pymatgen->virp==0.1.1) (0.4.6)\n",
      "Requirement already satisfied: future in c:\\users\\andyp\\anaconda3\\envs\\vaspnest\\lib\\site-packages (from uncertainties>=3.1.4->pymatgen->virp==0.1.1) (1.0.0)\n",
      "Building wheels for collected packages: virp\n",
      "  Building wheel for virp (setup.py): started\n",
      "  Building wheel for virp (setup.py): finished with status 'done'\n",
      "  Created wheel for virp: filename=virp-0.1.1-py3-none-any.whl size=4725 sha256=539bbf9241a52a16cfa9d93efdb4a328b3e3991ad4e622a15503df643c3fe199\n",
      "  Stored in directory: C:\\Users\\andyp\\AppData\\Local\\Temp\\pip-ephem-wheel-cache-okrdpp1_\\wheels\\2d\\99\\32\\ae7e6fdeb12f433df2f2d60b76d389ad7d1cabfb46f0b2b80c\n",
      "Successfully built virp\n",
      "Installing collected packages: virp\n",
      "Successfully installed virp-0.1.1\n",
      "Note: you may need to restart the kernel to use updated packages.\n"
     ]
    },
    {
     "name": "stderr",
     "output_type": "stream",
     "text": [
      "  Running command git clone --filter=blob:none --quiet https://github.com/andypaulchen/virp.git 'C:\\Users\\andyp\\AppData\\Local\\Temp\\pip-req-build-ty_0025e'\n"
     ]
    }
   ],
   "source": [
    "pip install git+https://github.com/andypaulchen/virp.git"
   ]
  },
  {
   "cell_type": "code",
   "execution_count": 1,
   "id": "34c475e8-653d-4cca-8d9e-821263753c80",
   "metadata": {},
   "outputs": [],
   "source": [
    "from virp import *"
   ]
  },
  {
   "cell_type": "code",
   "execution_count": 7,
   "id": "4d3fa04b-0425-4110-b066-890f50426a36",
   "metadata": {},
   "outputs": [
    {
     "name": "stdout",
     "output_type": "stream",
     "text": [
      "Supercell created and saved as  Ca2Al2SiO7_supercell.cif\n",
      "Disordered site name:  SiT2\n",
      "- Number of elements in this site:  2\n",
      "- Number of sites in supercell:  32\n",
      "- Atoms and site assignment (float/rounded):  [('Al0+', 16.0, 16), ('Si0+', 16.0, 16)]\n",
      "- No of filled sites:  32 / 32\n",
      "CPU times: total: 15.6 ms\n",
      "Wall time: 93.1 ms\n"
     ]
    }
   ],
   "source": [
    "%%time\n",
    "import warnings\n",
    "\n",
    "# Suppress warnings in this block\n",
    "with warnings.catch_warnings():\n",
    "    warnings.simplefilter(\"ignore\")\n",
    "    # Define the input and output file paths\n",
    "    header = \"Ca2Al2SiO7\"\n",
    "    source_file = header+\".cif\"\n",
    "    sc_file = header+\"_supercell.cif\"\n",
    "    output_file = header+\"_supercell_virtual.cif\"\n",
    "    \n",
    "    # Make the supercell\n",
    "    CIFSupercell (source_file, sc_file, [2,2,2])\n",
    "    \n",
    "    # Execution\n",
    "    PermutativeFill(sc_file, output_file)"
   ]
  },
  {
   "cell_type": "code",
   "execution_count": null,
   "id": "d84e8d11-0ff4-4d03-975b-dff76267070d",
   "metadata": {},
   "outputs": [],
   "source": []
  }
 ],
 "metadata": {
  "kernelspec": {
   "display_name": "Python 3 (ipykernel)",
   "language": "python",
   "name": "python3"
  },
  "language_info": {
   "codemirror_mode": {
    "name": "ipython",
    "version": 3
   },
   "file_extension": ".py",
   "mimetype": "text/x-python",
   "name": "python",
   "nbconvert_exporter": "python",
   "pygments_lexer": "ipython3",
   "version": "3.10.13"
  }
 },
 "nbformat": 4,
 "nbformat_minor": 5
}
