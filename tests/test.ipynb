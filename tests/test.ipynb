{
 "cells": [
  {
   "cell_type": "markdown",
   "id": "e22e8115-255e-477e-a125-b2f050523fbf",
   "metadata": {},
   "source": [
    "## Installing virp"
   ]
  },
  {
   "cell_type": "code",
   "execution_count": 2,
   "id": "6af6a945-a384-46f9-9a66-bd1d4aae60ff",
   "metadata": {},
   "outputs": [
    {
     "name": "stdout",
     "output_type": "stream",
     "text": [
      "Obtaining virp from git+https://github.com/andypaulchen/virp.git#egg=virp\n",
      "  Cloning https://github.com/andypaulchen/virp.git to c:\\users\\andyp\\onedrive\\documents\\github\\virp\\tests\\src\\virp\n",
      "  Resolved https://github.com/andypaulchen/virp.git to commit 07cc46e188a1df16c4d88bfb9e50f0f232c569b4\n",
      "  Preparing metadata (setup.py): started\n",
      "  Preparing metadata (setup.py): finished with status 'done'\n",
      "Requirement already satisfied: pymatgen in c:\\users\\andyp\\anaconda3\\envs\\vaspnest\\lib\\site-packages (from virp) (2024.10.29)\n",
      "Requirement already satisfied: joblib>=1 in c:\\users\\andyp\\anaconda3\\envs\\vaspnest\\lib\\site-packages (from pymatgen->virp) (1.3.2)\n",
      "Requirement already satisfied: matplotlib>=3.8 in c:\\users\\andyp\\anaconda3\\envs\\vaspnest\\lib\\site-packages (from pymatgen->virp) (3.8.3)\n",
      "Requirement already satisfied: monty>=2024.7.29 in c:\\users\\andyp\\anaconda3\\envs\\vaspnest\\lib\\site-packages (from pymatgen->virp) (2024.10.21)\n",
      "Requirement already satisfied: networkx>=3 in c:\\users\\andyp\\anaconda3\\envs\\vaspnest\\lib\\site-packages (from pymatgen->virp) (3.2.1)\n",
      "Requirement already satisfied: palettable>=3.3.3 in c:\\users\\andyp\\anaconda3\\envs\\vaspnest\\lib\\site-packages (from pymatgen->virp) (3.3.3)\n",
      "Requirement already satisfied: pandas>=2 in c:\\users\\andyp\\anaconda3\\envs\\vaspnest\\lib\\site-packages (from pymatgen->virp) (2.2.1)\n",
      "Requirement already satisfied: plotly>=4.5.0 in c:\\users\\andyp\\anaconda3\\envs\\vaspnest\\lib\\site-packages (from pymatgen->virp) (5.19.0)\n",
      "Requirement already satisfied: pybtex>=0.24.0 in c:\\users\\andyp\\anaconda3\\envs\\vaspnest\\lib\\site-packages (from pymatgen->virp) (0.24.0)\n",
      "Requirement already satisfied: requests>=2.32 in c:\\users\\andyp\\anaconda3\\envs\\vaspnest\\lib\\site-packages (from pymatgen->virp) (2.32.3)\n",
      "Requirement already satisfied: ruamel.yaml>=0.17.0 in c:\\users\\andyp\\anaconda3\\envs\\vaspnest\\lib\\site-packages (from pymatgen->virp) (0.17.40)\n",
      "Requirement already satisfied: scipy>=1.13.0 in c:\\users\\andyp\\anaconda3\\envs\\vaspnest\\lib\\site-packages (from pymatgen->virp) (1.14.1)\n",
      "Requirement already satisfied: spglib>=2.5.0 in c:\\users\\andyp\\anaconda3\\envs\\vaspnest\\lib\\site-packages (from pymatgen->virp) (2.5.0)\n",
      "Requirement already satisfied: sympy>=1.2 in c:\\users\\andyp\\anaconda3\\envs\\vaspnest\\lib\\site-packages (from pymatgen->virp) (1.12)\n",
      "Requirement already satisfied: tabulate>=0.9 in c:\\users\\andyp\\anaconda3\\envs\\vaspnest\\lib\\site-packages (from pymatgen->virp) (0.9.0)\n",
      "Requirement already satisfied: tqdm>=4.60 in c:\\users\\andyp\\anaconda3\\envs\\vaspnest\\lib\\site-packages (from pymatgen->virp) (4.66.2)\n",
      "Requirement already satisfied: uncertainties>=3.1.4 in c:\\users\\andyp\\anaconda3\\envs\\vaspnest\\lib\\site-packages (from pymatgen->virp) (3.1.7)\n",
      "Requirement already satisfied: numpy<3,>=1.25.0 in c:\\users\\andyp\\anaconda3\\envs\\vaspnest\\lib\\site-packages (from pymatgen->virp) (1.26.4)\n",
      "Requirement already satisfied: contourpy>=1.0.1 in c:\\users\\andyp\\anaconda3\\envs\\vaspnest\\lib\\site-packages (from matplotlib>=3.8->pymatgen->virp) (1.2.0)\n",
      "Requirement already satisfied: cycler>=0.10 in c:\\users\\andyp\\anaconda3\\envs\\vaspnest\\lib\\site-packages (from matplotlib>=3.8->pymatgen->virp) (0.12.1)\n",
      "Requirement already satisfied: fonttools>=4.22.0 in c:\\users\\andyp\\anaconda3\\envs\\vaspnest\\lib\\site-packages (from matplotlib>=3.8->pymatgen->virp) (4.49.0)\n",
      "Requirement already satisfied: kiwisolver>=1.3.1 in c:\\users\\andyp\\anaconda3\\envs\\vaspnest\\lib\\site-packages (from matplotlib>=3.8->pymatgen->virp) (1.4.5)\n",
      "Requirement already satisfied: packaging>=20.0 in c:\\users\\andyp\\anaconda3\\envs\\vaspnest\\lib\\site-packages (from matplotlib>=3.8->pymatgen->virp) (23.2)\n",
      "Requirement already satisfied: pillow>=8 in c:\\users\\andyp\\anaconda3\\envs\\vaspnest\\lib\\site-packages (from matplotlib>=3.8->pymatgen->virp) (10.2.0)\n",
      "Requirement already satisfied: pyparsing>=2.3.1 in c:\\users\\andyp\\anaconda3\\envs\\vaspnest\\lib\\site-packages (from matplotlib>=3.8->pymatgen->virp) (3.1.1)\n",
      "Requirement already satisfied: python-dateutil>=2.7 in c:\\users\\andyp\\anaconda3\\envs\\vaspnest\\lib\\site-packages (from matplotlib>=3.8->pymatgen->virp) (2.8.2)\n",
      "Requirement already satisfied: pytz>=2020.1 in c:\\users\\andyp\\anaconda3\\envs\\vaspnest\\lib\\site-packages (from pandas>=2->pymatgen->virp) (2024.1)\n",
      "Requirement already satisfied: tzdata>=2022.7 in c:\\users\\andyp\\anaconda3\\envs\\vaspnest\\lib\\site-packages (from pandas>=2->pymatgen->virp) (2024.1)\n",
      "Requirement already satisfied: tenacity>=6.2.0 in c:\\users\\andyp\\anaconda3\\envs\\vaspnest\\lib\\site-packages (from plotly>=4.5.0->pymatgen->virp) (8.2.3)\n",
      "Requirement already satisfied: PyYAML>=3.01 in c:\\users\\andyp\\anaconda3\\envs\\vaspnest\\lib\\site-packages (from pybtex>=0.24.0->pymatgen->virp) (6.0.1)\n",
      "Requirement already satisfied: latexcodec>=1.0.4 in c:\\users\\andyp\\anaconda3\\envs\\vaspnest\\lib\\site-packages (from pybtex>=0.24.0->pymatgen->virp) (2.0.1)\n",
      "Requirement already satisfied: six in c:\\users\\andyp\\anaconda3\\envs\\vaspnest\\lib\\site-packages (from pybtex>=0.24.0->pymatgen->virp) (1.16.0)\n",
      "Requirement already satisfied: charset-normalizer<4,>=2 in c:\\users\\andyp\\anaconda3\\envs\\vaspnest\\lib\\site-packages (from requests>=2.32->pymatgen->virp) (3.3.2)\n",
      "Requirement already satisfied: idna<4,>=2.5 in c:\\users\\andyp\\anaconda3\\envs\\vaspnest\\lib\\site-packages (from requests>=2.32->pymatgen->virp) (3.6)\n",
      "Requirement already satisfied: urllib3<3,>=1.21.1 in c:\\users\\andyp\\anaconda3\\envs\\vaspnest\\lib\\site-packages (from requests>=2.32->pymatgen->virp) (2.0.7)\n",
      "Requirement already satisfied: certifi>=2017.4.17 in c:\\users\\andyp\\anaconda3\\envs\\vaspnest\\lib\\site-packages (from requests>=2.32->pymatgen->virp) (2024.8.30)\n",
      "Requirement already satisfied: ruamel.yaml.clib>=0.2.7 in c:\\users\\andyp\\anaconda3\\envs\\vaspnest\\lib\\site-packages (from ruamel.yaml>=0.17.0->pymatgen->virp) (0.2.8)\n",
      "Requirement already satisfied: mpmath>=0.19 in c:\\users\\andyp\\anaconda3\\envs\\vaspnest\\lib\\site-packages (from sympy>=1.2->pymatgen->virp) (1.3.0)\n",
      "Requirement already satisfied: colorama in c:\\users\\andyp\\anaconda3\\envs\\vaspnest\\lib\\site-packages (from tqdm>=4.60->pymatgen->virp) (0.4.6)\n",
      "Requirement already satisfied: future in c:\\users\\andyp\\anaconda3\\envs\\vaspnest\\lib\\site-packages (from uncertainties>=3.1.4->pymatgen->virp) (1.0.0)\n",
      "Installing collected packages: virp\n",
      "  Running setup.py develop for virp\n",
      "Successfully installed virp\n",
      "Note: you may need to restart the kernel to use updated packages.\n"
     ]
    },
    {
     "name": "stderr",
     "output_type": "stream",
     "text": [
      "  Running command git clone --filter=blob:none --quiet https://github.com/andypaulchen/virp.git 'C:\\Users\\andyp\\OneDrive\\Documents\\GitHub\\virp\\tests\\src\\virp'\n",
      "  DEPRECATION: Legacy editable install of virp from git+https://github.com/andypaulchen/virp.git#egg=virp (setup.py develop) is deprecated. pip 25.0 will enforce this behaviour change. A possible replacement is to add a pyproject.toml or enable --use-pep517, and use setuptools >= 64. If the resulting installation is not behaving as expected, try using --config-settings editable_mode=compat. Please consult the setuptools documentation for more information. Discussion can be found at https://github.com/pypa/pip/issues/11457\n"
     ]
    }
   ],
   "source": [
    "pip install -e git+https://github.com/andypaulchen/virp.git#egg=virp"
   ]
  },
  {
   "cell_type": "markdown",
   "id": "e413db3d-9090-4bd6-8355-f0056c2b9b81",
   "metadata": {},
   "source": [
    "## Making a virtual cell with virp"
   ]
  },
  {
   "cell_type": "code",
   "execution_count": 1,
   "id": "4d3fa04b-0425-4110-b066-890f50426a36",
   "metadata": {},
   "outputs": [
    {
     "ename": "ModuleNotFoundError",
     "evalue": "No module named 'enumerate'",
     "output_type": "error",
     "traceback": [
      "\u001b[1;31m---------------------------------------------------------------------------\u001b[0m",
      "\u001b[1;31mModuleNotFoundError\u001b[0m                       Traceback (most recent call last)",
      "File \u001b[1;32m<timed exec>:2\u001b[0m\n",
      "File \u001b[1;32mc:\\users\\andyp\\onedrive\\documents\\github\\virp\\tests\\src\\virp\\virp\\__init__.py:8\u001b[0m\n\u001b[0;32m      1\u001b[0m \u001b[38;5;66;03m# Copyright (c) 2024, Kedar Hippalgaonkar's Materials by Design Lab\u001b[39;00m\n\u001b[0;32m      2\u001b[0m \u001b[38;5;66;03m# Distributed under the terms of the MIT License.\u001b[39;00m\n\u001b[0;32m      4\u001b[0m \u001b[38;5;124;03m\"\"\"\u001b[39;00m\n\u001b[0;32m      5\u001b[0m \u001b[38;5;124;03mVirp (VIRtual cell generation by Permutation) is a code for generating a virtual cell from a site-disordered .cif crystal file\u001b[39;00m\n\u001b[0;32m      6\u001b[0m \u001b[38;5;124;03m\"\"\"\u001b[39;00m\n\u001b[1;32m----> 8\u001b[0m \u001b[38;5;28;01mfrom\u001b[39;00m \u001b[38;5;21;01m.\u001b[39;00m\u001b[38;5;21;01mmain\u001b[39;00m \u001b[38;5;28;01mimport\u001b[39;00m \u001b[38;5;241m*\u001b[39m\n\u001b[0;32m     10\u001b[0m __copyright__  \u001b[38;5;241m=\u001b[39m \u001b[38;5;124m\"\u001b[39m\u001b[38;5;124mKedar Hippalgaonkar\u001b[39m\u001b[38;5;124m'\u001b[39m\u001b[38;5;124ms Materials by Design Lab\u001b[39m\u001b[38;5;124m\"\u001b[39m\n\u001b[0;32m     11\u001b[0m __version__    \u001b[38;5;241m=\u001b[39m  \u001b[38;5;124m\"\u001b[39m\u001b[38;5;124m0.1.1\u001b[39m\u001b[38;5;124m\"\u001b[39m\n",
      "File \u001b[1;32mc:\\users\\andyp\\onedrive\\documents\\github\\virp\\tests\\src\\virp\\virp\\main.py:12\u001b[0m\n\u001b[0;32m      9\u001b[0m \u001b[38;5;28;01mimport\u001b[39;00m \u001b[38;5;21;01mre\u001b[39;00m\n\u001b[0;32m     11\u001b[0m \u001b[38;5;66;03m# Internal Imports\u001b[39;00m\n\u001b[1;32m---> 12\u001b[0m \u001b[38;5;28;01mfrom\u001b[39;00m \u001b[38;5;21;01menumerate\u001b[39;00m \u001b[38;5;28;01mimport\u001b[39;00m \u001b[38;5;241m*\u001b[39m\n\u001b[0;32m     14\u001b[0m \u001b[38;5;28;01mdef\u001b[39;00m \u001b[38;5;21mCIFSupercell\u001b[39m (inputcif, outputcif, supercellsize):\n\u001b[0;32m     15\u001b[0m     \u001b[38;5;66;03m# inputcif, outputcif: path to cif file\u001b[39;00m\n\u001b[0;32m     16\u001b[0m     \u001b[38;5;66;03m# supercellsize: vector of 3 integers\u001b[39;00m\n\u001b[0;32m     17\u001b[0m \n\u001b[0;32m     18\u001b[0m     \u001b[38;5;66;03m# Load the structure from a CIF file\u001b[39;00m\n\u001b[0;32m     19\u001b[0m     structure \u001b[38;5;241m=\u001b[39m Structure\u001b[38;5;241m.\u001b[39mfrom_file(inputcif)\n",
      "\u001b[1;31mModuleNotFoundError\u001b[0m: No module named 'enumerate'"
     ]
    }
   ],
   "source": [
    "%%time\n",
    "import warnings\n",
    "from virp import *\n",
    "\n",
    "# Suppress warnings in this block\n",
    "with warnings.catch_warnings():\n",
    "    warnings.simplefilter(\"ignore\")\n",
    "    # Define the input and output file paths\n",
    "    header = \"Ca2Al2SiO7\"\n",
    "    source_file = header+\".cif\"\n",
    "    sc_file = header+\"_supercell.cif\"\n",
    "    output_file = header+\"_supercell_virtual.cif\"\n",
    "    \n",
    "    # Make the supercell\n",
    "    CIFSupercell (source_file, sc_file, [2,2,2])\n",
    "    \n",
    "    # Execution\n",
    "    PermutativeFill(sc_file, output_file)"
   ]
  },
  {
   "cell_type": "code",
   "execution_count": 2,
   "id": "d84e8d11-0ff4-4d03-975b-dff76267070d",
   "metadata": {},
   "outputs": [
    {
     "ename": "ModuleNotFoundError",
     "evalue": "No module named 'enumerate'",
     "output_type": "error",
     "traceback": [
      "\u001b[1;31m---------------------------------------------------------------------------\u001b[0m",
      "\u001b[1;31mModuleNotFoundError\u001b[0m                       Traceback (most recent call last)",
      "Cell \u001b[1;32mIn[2], line 1\u001b[0m\n\u001b[1;32m----> 1\u001b[0m \u001b[38;5;28;01mfrom\u001b[39;00m \u001b[38;5;21;01mvirp\u001b[39;00m \u001b[38;5;28;01mimport\u001b[39;00m \u001b[38;5;241m*\u001b[39m\n",
      "File \u001b[1;32mc:\\users\\andyp\\onedrive\\documents\\github\\virp\\tests\\src\\virp\\virp\\__init__.py:8\u001b[0m\n\u001b[0;32m      1\u001b[0m \u001b[38;5;66;03m# Copyright (c) 2024, Kedar Hippalgaonkar's Materials by Design Lab\u001b[39;00m\n\u001b[0;32m      2\u001b[0m \u001b[38;5;66;03m# Distributed under the terms of the MIT License.\u001b[39;00m\n\u001b[0;32m      4\u001b[0m \u001b[38;5;124;03m\"\"\"\u001b[39;00m\n\u001b[0;32m      5\u001b[0m \u001b[38;5;124;03mVirp (VIRtual cell generation by Permutation) is a code for generating a virtual cell from a site-disordered .cif crystal file\u001b[39;00m\n\u001b[0;32m      6\u001b[0m \u001b[38;5;124;03m\"\"\"\u001b[39;00m\n\u001b[1;32m----> 8\u001b[0m \u001b[38;5;28;01mfrom\u001b[39;00m \u001b[38;5;21;01m.\u001b[39;00m\u001b[38;5;21;01mmain\u001b[39;00m \u001b[38;5;28;01mimport\u001b[39;00m \u001b[38;5;241m*\u001b[39m\n\u001b[0;32m     10\u001b[0m __copyright__  \u001b[38;5;241m=\u001b[39m \u001b[38;5;124m\"\u001b[39m\u001b[38;5;124mKedar Hippalgaonkar\u001b[39m\u001b[38;5;124m'\u001b[39m\u001b[38;5;124ms Materials by Design Lab\u001b[39m\u001b[38;5;124m\"\u001b[39m\n\u001b[0;32m     11\u001b[0m __version__    \u001b[38;5;241m=\u001b[39m  \u001b[38;5;124m\"\u001b[39m\u001b[38;5;124m0.1.1\u001b[39m\u001b[38;5;124m\"\u001b[39m\n",
      "File \u001b[1;32mc:\\users\\andyp\\onedrive\\documents\\github\\virp\\tests\\src\\virp\\virp\\main.py:12\u001b[0m\n\u001b[0;32m      9\u001b[0m \u001b[38;5;28;01mimport\u001b[39;00m \u001b[38;5;21;01mre\u001b[39;00m\n\u001b[0;32m     11\u001b[0m \u001b[38;5;66;03m# Internal Imports\u001b[39;00m\n\u001b[1;32m---> 12\u001b[0m \u001b[38;5;28;01mfrom\u001b[39;00m \u001b[38;5;21;01menumerate\u001b[39;00m \u001b[38;5;28;01mimport\u001b[39;00m \u001b[38;5;241m*\u001b[39m\n\u001b[0;32m     14\u001b[0m \u001b[38;5;28;01mdef\u001b[39;00m \u001b[38;5;21mCIFSupercell\u001b[39m (inputcif, outputcif, supercellsize):\n\u001b[0;32m     15\u001b[0m     \u001b[38;5;66;03m# inputcif, outputcif: path to cif file\u001b[39;00m\n\u001b[0;32m     16\u001b[0m     \u001b[38;5;66;03m# supercellsize: vector of 3 integers\u001b[39;00m\n\u001b[0;32m     17\u001b[0m \n\u001b[0;32m     18\u001b[0m     \u001b[38;5;66;03m# Load the structure from a CIF file\u001b[39;00m\n\u001b[0;32m     19\u001b[0m     structure \u001b[38;5;241m=\u001b[39m Structure\u001b[38;5;241m.\u001b[39mfrom_file(inputcif)\n",
      "\u001b[1;31mModuleNotFoundError\u001b[0m: No module named 'enumerate'"
     ]
    }
   ],
   "source": [
    "from virp import *"
   ]
  },
  {
   "cell_type": "code",
   "execution_count": 2,
   "id": "eea9d597-bf48-4f7c-99a8-932f2ba9d3c2",
   "metadata": {},
   "outputs": [
    {
     "ename": "NameError",
     "evalue": "name 'enumerate_permutations' is not defined",
     "output_type": "error",
     "traceback": [
      "\u001b[1;31m---------------------------------------------------------------------------\u001b[0m",
      "\u001b[1;31mNameError\u001b[0m                                 Traceback (most recent call last)",
      "Cell \u001b[1;32mIn[2], line 1\u001b[0m\n\u001b[1;32m----> 1\u001b[0m \u001b[43menumerate_permutations\u001b[49m(\u001b[38;5;241m27\u001b[39m,[\u001b[38;5;241m0.4\u001b[39m,\u001b[38;5;241m0.1\u001b[39m])\n",
      "\u001b[1;31mNameError\u001b[0m: name 'enumerate_permutations' is not defined"
     ]
    }
   ],
   "source": [
    "enumerate_permutations(27,[0.4,0.1])"
   ]
  },
  {
   "cell_type": "code",
   "execution_count": null,
   "id": "65ef127b-7889-4628-8d23-4da1fd08ea9b",
   "metadata": {},
   "outputs": [],
   "source": []
  }
 ],
 "metadata": {
  "kernelspec": {
   "display_name": "Python 3 (ipykernel)",
   "language": "python",
   "name": "python3"
  },
  "language_info": {
   "codemirror_mode": {
    "name": "ipython",
    "version": 3
   },
   "file_extension": ".py",
   "mimetype": "text/x-python",
   "name": "python",
   "nbconvert_exporter": "python",
   "pygments_lexer": "ipython3",
   "version": "3.10.13"
  }
 },
 "nbformat": 4,
 "nbformat_minor": 5
}
