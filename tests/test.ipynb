{
 "cells": [
  {
   "cell_type": "code",
   "execution_count": 1,
   "id": "6af6a945-a384-46f9-9a66-bd1d4aae60ff",
   "metadata": {},
   "outputs": [
    {
     "name": "stdout",
     "output_type": "stream",
     "text": [
      "Collecting git+https://github.com/andypaulchen/Virp.git\n",
      "  Cloning https://github.com/andypaulchen/Virp.git to c:\\users\\andyp\\appdata\\local\\temp\\pip-req-build-5a4x0zks\n",
      "  Resolved https://github.com/andypaulchen/Virp.git to commit d9aa292235ec11775397570252cc6e4326d83d7d\n",
      "  Preparing metadata (setup.py): started\n",
      "  Preparing metadata (setup.py): finished with status 'done'\n",
      "Requirement already satisfied: pymatgen in c:\\users\\andyp\\anaconda3\\envs\\vaspnest\\lib\\site-packages (from virp==0.1.1) (2024.4.13)\n",
      "Requirement already satisfied: matplotlib>=1.5 in c:\\users\\andyp\\anaconda3\\envs\\vaspnest\\lib\\site-packages (from pymatgen->virp==0.1.1) (3.8.3)\n",
      "Requirement already satisfied: monty>=2024.2.2 in c:\\users\\andyp\\anaconda3\\envs\\vaspnest\\lib\\site-packages (from pymatgen->virp==0.1.1) (2024.2.26)\n",
      "Requirement already satisfied: networkx>=2.2 in c:\\users\\andyp\\anaconda3\\envs\\vaspnest\\lib\\site-packages (from pymatgen->virp==0.1.1) (3.2.1)\n",
      "Requirement already satisfied: numpy>=1.25.0 in c:\\users\\andyp\\anaconda3\\envs\\vaspnest\\lib\\site-packages (from pymatgen->virp==0.1.1) (1.26.4)\n",
      "Requirement already satisfied: palettable>=3.1.1 in c:\\users\\andyp\\anaconda3\\envs\\vaspnest\\lib\\site-packages (from pymatgen->virp==0.1.1) (3.3.3)\n",
      "Requirement already satisfied: pandas in c:\\users\\andyp\\anaconda3\\envs\\vaspnest\\lib\\site-packages (from pymatgen->virp==0.1.1) (2.2.1)\n",
      "Requirement already satisfied: plotly>=4.5.0 in c:\\users\\andyp\\anaconda3\\envs\\vaspnest\\lib\\site-packages (from pymatgen->virp==0.1.1) (5.19.0)\n",
      "Requirement already satisfied: pybtex in c:\\users\\andyp\\anaconda3\\envs\\vaspnest\\lib\\site-packages (from pymatgen->virp==0.1.1) (0.24.0)\n",
      "Requirement already satisfied: requests in c:\\users\\andyp\\anaconda3\\envs\\vaspnest\\lib\\site-packages (from pymatgen->virp==0.1.1) (2.31.0)\n",
      "Requirement already satisfied: ruamel.yaml>=0.17.0 in c:\\users\\andyp\\anaconda3\\envs\\vaspnest\\lib\\site-packages (from pymatgen->virp==0.1.1) (0.17.40)\n",
      "Requirement already satisfied: scipy>=1.5.0 in c:\\users\\andyp\\anaconda3\\envs\\vaspnest\\lib\\site-packages (from pymatgen->virp==0.1.1) (1.12.0)\n",
      "Requirement already satisfied: spglib>=2.0.2 in c:\\users\\andyp\\anaconda3\\envs\\vaspnest\\lib\\site-packages (from pymatgen->virp==0.1.1) (2.3.1)\n",
      "Requirement already satisfied: sympy in c:\\users\\andyp\\anaconda3\\envs\\vaspnest\\lib\\site-packages (from pymatgen->virp==0.1.1) (1.12)\n",
      "Requirement already satisfied: tabulate in c:\\users\\andyp\\anaconda3\\envs\\vaspnest\\lib\\site-packages (from pymatgen->virp==0.1.1) (0.9.0)\n",
      "Requirement already satisfied: tqdm in c:\\users\\andyp\\anaconda3\\envs\\vaspnest\\lib\\site-packages (from pymatgen->virp==0.1.1) (4.66.2)\n",
      "Requirement already satisfied: uncertainties>=3.1.4 in c:\\users\\andyp\\anaconda3\\envs\\vaspnest\\lib\\site-packages (from pymatgen->virp==0.1.1) (3.1.7)\n",
      "Requirement already satisfied: joblib in c:\\users\\andyp\\anaconda3\\envs\\vaspnest\\lib\\site-packages (from pymatgen->virp==0.1.1) (1.3.2)\n",
      "Requirement already satisfied: contourpy>=1.0.1 in c:\\users\\andyp\\anaconda3\\envs\\vaspnest\\lib\\site-packages (from matplotlib>=1.5->pymatgen->virp==0.1.1) (1.2.0)\n",
      "Requirement already satisfied: cycler>=0.10 in c:\\users\\andyp\\anaconda3\\envs\\vaspnest\\lib\\site-packages (from matplotlib>=1.5->pymatgen->virp==0.1.1) (0.12.1)\n",
      "Requirement already satisfied: fonttools>=4.22.0 in c:\\users\\andyp\\anaconda3\\envs\\vaspnest\\lib\\site-packages (from matplotlib>=1.5->pymatgen->virp==0.1.1) (4.49.0)\n",
      "Requirement already satisfied: kiwisolver>=1.3.1 in c:\\users\\andyp\\anaconda3\\envs\\vaspnest\\lib\\site-packages (from matplotlib>=1.5->pymatgen->virp==0.1.1) (1.4.5)\n",
      "Requirement already satisfied: packaging>=20.0 in c:\\users\\andyp\\anaconda3\\envs\\vaspnest\\lib\\site-packages (from matplotlib>=1.5->pymatgen->virp==0.1.1) (23.2)\n",
      "Requirement already satisfied: pillow>=8 in c:\\users\\andyp\\anaconda3\\envs\\vaspnest\\lib\\site-packages (from matplotlib>=1.5->pymatgen->virp==0.1.1) (10.2.0)\n",
      "Requirement already satisfied: pyparsing>=2.3.1 in c:\\users\\andyp\\anaconda3\\envs\\vaspnest\\lib\\site-packages (from matplotlib>=1.5->pymatgen->virp==0.1.1) (3.1.1)\n",
      "Requirement already satisfied: python-dateutil>=2.7 in c:\\users\\andyp\\anaconda3\\envs\\vaspnest\\lib\\site-packages (from matplotlib>=1.5->pymatgen->virp==0.1.1) (2.8.2)\n",
      "Requirement already satisfied: tenacity>=6.2.0 in c:\\users\\andyp\\anaconda3\\envs\\vaspnest\\lib\\site-packages (from plotly>=4.5.0->pymatgen->virp==0.1.1) (8.2.3)\n",
      "Requirement already satisfied: ruamel.yaml.clib>=0.2.7 in c:\\users\\andyp\\anaconda3\\envs\\vaspnest\\lib\\site-packages (from ruamel.yaml>=0.17.0->pymatgen->virp==0.1.1) (0.2.8)\n",
      "Requirement already satisfied: future in c:\\users\\andyp\\anaconda3\\envs\\vaspnest\\lib\\site-packages (from uncertainties>=3.1.4->pymatgen->virp==0.1.1) (1.0.0)\n",
      "Requirement already satisfied: pytz>=2020.1 in c:\\users\\andyp\\anaconda3\\envs\\vaspnest\\lib\\site-packages (from pandas->pymatgen->virp==0.1.1) (2024.1)\n",
      "Requirement already satisfied: tzdata>=2022.7 in c:\\users\\andyp\\anaconda3\\envs\\vaspnest\\lib\\site-packages (from pandas->pymatgen->virp==0.1.1) (2024.1)\n",
      "Requirement already satisfied: PyYAML>=3.01 in c:\\users\\andyp\\anaconda3\\envs\\vaspnest\\lib\\site-packages (from pybtex->pymatgen->virp==0.1.1) (6.0.1)\n",
      "Requirement already satisfied: latexcodec>=1.0.4 in c:\\users\\andyp\\anaconda3\\envs\\vaspnest\\lib\\site-packages (from pybtex->pymatgen->virp==0.1.1) (2.0.1)\n",
      "Requirement already satisfied: six in c:\\users\\andyp\\anaconda3\\envs\\vaspnest\\lib\\site-packages (from pybtex->pymatgen->virp==0.1.1) (1.16.0)\n",
      "Requirement already satisfied: charset-normalizer<4,>=2 in c:\\users\\andyp\\anaconda3\\envs\\vaspnest\\lib\\site-packages (from requests->pymatgen->virp==0.1.1) (3.3.2)\n",
      "Requirement already satisfied: idna<4,>=2.5 in c:\\users\\andyp\\anaconda3\\envs\\vaspnest\\lib\\site-packages (from requests->pymatgen->virp==0.1.1) (3.6)\n",
      "Requirement already satisfied: urllib3<3,>=1.21.1 in c:\\users\\andyp\\anaconda3\\envs\\vaspnest\\lib\\site-packages (from requests->pymatgen->virp==0.1.1) (2.0.7)\n",
      "Requirement already satisfied: certifi>=2017.4.17 in c:\\users\\andyp\\anaconda3\\envs\\vaspnest\\lib\\site-packages (from requests->pymatgen->virp==0.1.1) (2024.8.30)\n",
      "Requirement already satisfied: mpmath>=0.19 in c:\\users\\andyp\\anaconda3\\envs\\vaspnest\\lib\\site-packages (from sympy->pymatgen->virp==0.1.1) (1.3.0)\n",
      "Requirement already satisfied: colorama in c:\\users\\andyp\\anaconda3\\envs\\vaspnest\\lib\\site-packages (from tqdm->pymatgen->virp==0.1.1) (0.4.6)\n",
      "Note: you may need to restart the kernel to use updated packages.\n"
     ]
    },
    {
     "name": "stderr",
     "output_type": "stream",
     "text": [
      "  Running command git clone --filter=blob:none --quiet https://github.com/andypaulchen/Virp.git 'C:\\Users\\andyp\\AppData\\Local\\Temp\\pip-req-build-5a4x0zks'\n"
     ]
    }
   ],
   "source": [
    "pip install git+https://github.com/andypaulchen/Virp.git"
   ]
  },
  {
   "cell_type": "code",
   "execution_count": 2,
   "id": "34c475e8-653d-4cca-8d9e-821263753c80",
   "metadata": {},
   "outputs": [],
   "source": [
    "from Virp import *"
   ]
  },
  {
   "cell_type": "code",
   "execution_count": 7,
   "id": "4d3fa04b-0425-4110-b066-890f50426a36",
   "metadata": {},
   "outputs": [
    {
     "name": "stdout",
     "output_type": "stream",
     "text": [
      "Supercell created and saved as  Ca2Al2SiO7_supercell.cif\n",
      "Disordered site name:  SiT2\n",
      "- Number of elements in this site:  2\n",
      "- Number of sites in supercell:  32\n",
      "- Atoms and site assignment (float/rounded):  [('Al0+', 16.0, 16), ('Si0+', 16.0, 16)]\n",
      "- No of filled sites:  32 / 32\n",
      "CPU times: total: 15.6 ms\n",
      "Wall time: 93.1 ms\n"
     ]
    }
   ],
   "source": [
    "%%time\n",
    "import warnings\n",
    "\n",
    "# Suppress warnings in this block\n",
    "with warnings.catch_warnings():\n",
    "    warnings.simplefilter(\"ignore\")\n",
    "    # Define the input and output file paths\n",
    "    header = \"Ca2Al2SiO7\"\n",
    "    source_file = header+\".cif\"\n",
    "    sc_file = header+\"_supercell.cif\"\n",
    "    output_file = header+\"_supercell_virtual.cif\"\n",
    "    \n",
    "    # Make the supercell\n",
    "    CIFSupercell (source_file, sc_file, [2,2,2])\n",
    "    \n",
    "    # Execution\n",
    "    PermutativeFill(sc_file, output_file)"
   ]
  },
  {
   "cell_type": "code",
   "execution_count": null,
   "id": "d84e8d11-0ff4-4d03-975b-dff76267070d",
   "metadata": {},
   "outputs": [],
   "source": []
  }
 ],
 "metadata": {
  "kernelspec": {
   "display_name": "Python 3 (ipykernel)",
   "language": "python",
   "name": "python3"
  },
  "language_info": {
   "codemirror_mode": {
    "name": "ipython",
    "version": 3
   },
   "file_extension": ".py",
   "mimetype": "text/x-python",
   "name": "python",
   "nbconvert_exporter": "python",
   "pygments_lexer": "ipython3",
   "version": "3.10.13"
  }
 },
 "nbformat": 4,
 "nbformat_minor": 5
}
